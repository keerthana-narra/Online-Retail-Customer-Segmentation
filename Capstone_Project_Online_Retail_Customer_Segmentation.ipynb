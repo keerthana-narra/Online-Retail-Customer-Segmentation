{
  "nbformat": 4,
  "nbformat_minor": 0,
  "metadata": {
    "colab": {
      "private_outputs": true,
      "provenance": [],
      "collapsed_sections": [
        "ILM16xV1PD8m",
        "bqVZBxrvPD8n",
        "yQaldy8SH6Dl",
        "mDgbUHAGgjLW",
        "HhfV-JJviCcP",
        "Y3lxredqlCYt",
        "3RnN4peoiCZX",
        "x71ZqKXriCWQ",
        "7hBIi_osiCS2",
        "JlHwYmJAmNHm",
        "35m5QtbWiB9F",
        "PoPl-ycgm1ru",
        "H0kj-8xxnORC",
        "nA9Y7ga8ng1Z",
        "PBTbrJXOngz2",
        "u3PMJOP6ngxN",
        "dauF4eBmngu3",
        "bKJF3rekwFvQ",
        "MSa1f5Uengrz",
        "GF8Ens_Soomf",
        "0wOQAZs5pc--",
        "K5QZ13OEpz2H",
        "lQ7QKXXCp7Bj",
        "448CDAPjqfQr",
        "xJivPyE8q_2k",
        "azX1PEddq_20",
        "iyKleWeyq_20",
        "8-UX51ofq_21",
        "Of3PJYNbrGff",
        "w8bcvZxarGfg",
        "HZ6txCBBrGfh",
        "jbkhcZqdrGfh",
        "riLp7y9brHca",
        "Uw0GT_uHrHcb",
        "qTEiGUKorHcc",
        "1Qw8mtL3rHcd",
        "xnMZvg2orIPt",
        "mwHQVoIQrIPu",
        "Kwy5hImkrIPu",
        "0sjxqkK0rIPv",
        "y7avNpR9HL5z",
        "Z5yPuW4iHL50",
        "3vIdo55JHL50",
        "IlhlbgNBHL51",
        "oQ-pHCWMHO92",
        "DEMFeE18HO92",
        "MR3eS7xTHO93",
        "JmI1Y4YbHO93",
        "XGShqbS2HSAY",
        "B4XxyvTzHSAZ",
        "Mal1wQlpHSAZ",
        "BgP_e3WlHSAZ",
        "I3aNiIh9fKqZ",
        "hTF1e9PwfKqa",
        "1xrBLU6IfKqa",
        "yiLHMWFSfKqb",
        "NC_X3p0fY2L0",
        "UV0SzAkaZNRQ",
        "YPEH6qLeZNRQ",
        "q29F0dvdveiT",
        "EXh0U9oCveiU",
        "22aHeOlLveiV",
        "g-ATYxFrGrvw",
        "Yfr_Vlr8HBkt",
        "8yEUt7NnHlrM",
        "tEA2Xm5dHt1r",
        "I79__PHVH19G",
        "Ou-I18pAyIpj",
        "fF3858GYyt-u",
        "jLrtcv83OEmf",
        "5djnGilGOEmg",
        "DADo_qtwOEmg",
        "0VL2QIwzOEmh",
        "69qjvWOxOEmh",
        "FqZJ_xAgOH3o",
        "pE65w-N1OH3p",
        "OISwWHvhOH3p",
        "rheC10M4OH3q",
        "-CtoKDX7OH3q",
        "yLjJCtPM0KBk",
        "xiyOF9F70UgQ",
        "7wuGOrhz0itI",
        "id1riN9m0vUs",
        "578E2V7j08f6",
        "89xtkJwZ18nB",
        "67NQN5KX2AMe",
        "Iwf50b-R2tYG",
        "GMQiZwjn3iu7",
        "WVIkgGqN3qsr",
        "XkPnILGE3zoT",
        "Hlsf0x5436Go",
        "mT9DMSJo4nBL",
        "c49ITxTc407N",
        "OeJFEK0N496M",
        "9ExmJH0g5HBk",
        "cJNqERVU536h",
        "k5UmGsbsOxih",
        "T0VqWOYE6DLQ",
        "qBMux9mC6MCf",
        "-oLEiFgy-5Pf",
        "C74aWNz2AliB",
        "2DejudWSA-a0",
        "pEMng2IbBLp7",
        "TNVZ9zx19K6k",
        "nqoHp30x9hH9",
        "rMDnDkt2B6du",
        "yiiVWRdJDDil",
        "1UUpS68QDMuG",
        "kexQrXU-DjzY",
        "T5CmagL3EC8N",
        "BhH2vgX9EjGr",
        "qjKvONjwE8ra",
        "TIqpNgepFxVj",
        "VfCC591jGiD4",
        "peAK6Cc_HQeo",
        "khncImPpHcol",
        "wTe8K5rdYGV1",
        "yyzM232tatvC",
        "OMC09DFCbrEm",
        "dJ2tPlVmpsJ0",
        "JWYfwnehpsJ1",
        "-jK_YjpMpsJ2",
        "HAih1iBOpsJ2",
        "zVGeBEFhpsJ2",
        "Fze-IPXLpx6K",
        "7AN1z2sKpx6M",
        "9PIHJqyupx6M",
        "_-qAgymDpx6N",
        "Z-hykwinpx6N",
        "h_CCil-SKHpo",
        "cBFFvTBNJzUa",
        "HvGl1hHyA_VK",
        "gCX9965dhzqZ",
        "gIfDvo9L0UH2"
      ],
      "include_colab_link": true
    },
    "kernelspec": {
      "name": "python3",
      "display_name": "Python 3"
    },
    "language_info": {
      "name": "python"
    }
  },
  "cells": [
    {
      "cell_type": "markdown",
      "metadata": {
        "id": "view-in-github",
        "colab_type": "text"
      },
      "source": [
        "<a href=\"https://colab.research.google.com/github/keerthana-narra/Online-Retail-Customer-Segmentation/blob/main/Capstone_Project_Online_Retail_Customer_Segmentation.ipynb\" target=\"_parent\"><img src=\"https://colab.research.google.com/assets/colab-badge.svg\" alt=\"Open In Colab\"/></a>"
      ]
    },
    {
      "cell_type": "markdown",
      "source": [
        "# **Project Name - Online Retail Customer Segmentation**\n",
        "\n"
      ],
      "metadata": {
        "id": "ILM16xV1PD8m"
      }
    },
    {
      "cell_type": "markdown",
      "source": [
        "##### **Project Type**    - Clustering\n",
        "##### **Contribution**    - Individual\n"
      ],
      "metadata": {
        "id": "bqVZBxrvPD8n"
      }
    },
    {
      "cell_type": "markdown",
      "source": [
        "# **Problem Statement**\n"
      ],
      "metadata": {
        "id": "yQaldy8SH6Dl"
      }
    },
    {
      "cell_type": "markdown",
      "source": [
        "**BUSINESS PROBLEM OVERVIEW**\n",
        "\n",
        "In the project, the task is to identify major customer segments on a transnational data set which contains all the transactions occurring between 01/12/2010 and 09/12/2011 for a UK-based and registered non-store online retail.The company mainly sells unique all-occasion gifts. Many customers of the company are wholesalers.\n",
        "\n",
        "**What is Customer Segmentation ??**\n",
        "\n",
        "Customer segmentation is the process of categorizing a customer base into distinct groups based on shared characteristics or behaviors. This allows businesses to tailor marketing strategies and services to meet the unique needs of each segment. Effective segmentation enhances personalization and improves overall customer satisfaction.\n",
        "\n"
      ],
      "metadata": {
        "id": "jivUA-ONOwse"
      }
    },
    {
      "cell_type": "markdown",
      "source": [
        "# **General Guidelines** : -  "
      ],
      "metadata": {
        "id": "mDgbUHAGgjLW"
      }
    },
    {
      "cell_type": "markdown",
      "source": [
        "1.   Well-structured, formatted, and commented code is required.\n",
        "2.   Exception Handling, Production Grade Code & Deployment Ready Code will be a plus. Those students will be awarded some additional credits.\n",
        "     \n",
        "     The additional credits will have advantages over other students during Star Student selection.\n",
        "       \n",
        "             [ Note: - Deployment Ready Code is defined as, the whole .ipynb notebook should be executable in one go\n",
        "                       without a single error logged. ]\n",
        "\n",
        "3.   Each and every logic should have proper comments.\n",
        "4. You may add as many number of charts you want. Make Sure for each and every chart the following format should be answered.\n",
        "        \n",
        "\n",
        "```\n",
        "# Chart visualization code\n",
        "```\n",
        "            \n",
        "\n",
        "*   Why did you pick the specific chart?\n",
        "*   What is/are the insight(s) found from the chart?\n",
        "* Will the gained insights help creating a positive business impact?\n",
        "Are there any insights that lead to negative growth? Justify with specific reason.\n",
        "\n",
        "5. You have to create at least 15 logical & meaningful charts having important insights.\n",
        "\n",
        "\n",
        "[ Hints : - Do the Vizualization in  a structured way while following \"UBM\" Rule.\n",
        "\n",
        "U - Univariate Analysis,\n",
        "\n",
        "B - Bivariate Analysis (Numerical - Categorical, Numerical - Numerical, Categorical - Categorical)\n",
        "\n",
        "M - Multivariate Analysis\n",
        " ]\n",
        "\n",
        "\n",
        "\n",
        "\n",
        "\n",
        "6. You may add more ml algorithms for model creation. Make sure for each and every algorithm, the following format should be answered.\n",
        "\n",
        "\n",
        "*   Explain the ML Model used and it's performance using Evaluation metric Score Chart.\n",
        "\n",
        "\n",
        "*   Cross- Validation & Hyperparameter Tuning\n",
        "\n",
        "*   Have you seen any improvement? Note down the improvement with updates Evaluation metric Score Chart.\n",
        "\n",
        "*   Explain each evaluation metric's indication towards business and the business impact pf the ML model used.\n",
        "\n",
        "\n",
        "\n",
        "\n",
        "\n",
        "\n",
        "\n",
        "\n",
        "\n",
        "\n",
        "\n",
        "\n",
        "\n",
        "\n",
        "\n",
        "\n",
        "\n",
        "\n"
      ],
      "metadata": {
        "id": "ZrxVaUj-hHfC"
      }
    },
    {
      "cell_type": "markdown",
      "source": [
        "# ***Let's Begin !***"
      ],
      "metadata": {
        "id": "O_i_v8NEhb9l"
      }
    },
    {
      "cell_type": "markdown",
      "source": [
        "## ***1. Know Your Data***"
      ],
      "metadata": {
        "id": "HhfV-JJviCcP"
      }
    },
    {
      "cell_type": "markdown",
      "source": [
        "### Import Libraries"
      ],
      "metadata": {
        "id": "Y3lxredqlCYt"
      }
    },
    {
      "cell_type": "code",
      "source": [
        "# Import Libraries\n",
        "import numpy as np\n",
        "import pandas as pd\n",
        "\n",
        "import seaborn as sns\n",
        "import matplotlib.pyplot as plt\n",
        "import matplotlib.ticker as ticker\n",
        "%matplotlib inline\n",
        "from matplotlib import rcParams\n",
        "\n",
        "\n",
        "from scipy.stats import *\n",
        "import math\n",
        "\n",
        "from statsmodels.stats.outliers_influence import variance_inflation_factor\n",
        "from sklearn.preprocessing import StandardScaler\n",
        "from sklearn.model_selection import train_test_split\n",
        "from imblearn.over_sampling import SMOTE\n",
        "from sklearn.linear_model import LogisticRegression\n",
        "from sklearn.ensemble import RandomForestClassifier\n",
        "from sklearn.metrics import accuracy_score, confusion_matrix\n",
        "from sklearn import metrics\n",
        "from sklearn.metrics import roc_curve\n",
        "from sklearn.model_selection import GridSearchCV\n",
        "from sklearn.model_selection import RepeatedStratifiedKFold\n",
        "from xgboost import XGBClassifier\n",
        "from xgboost import XGBRFClassifier\n",
        "from sklearn.tree import export_graphviz\n",
        "\n",
        "#!pip install shap==0.40.0\n",
        "import shap\n",
        "import graphviz\n",
        "sns.set_style('darkgrid')\n",
        "\n",
        "import warnings\n",
        "warnings.filterwarnings('ignore')"
      ],
      "metadata": {
        "id": "M8Vqi-pPk-HR"
      },
      "execution_count": null,
      "outputs": []
    },
    {
      "cell_type": "markdown",
      "source": [
        "### Dataset Loading"
      ],
      "metadata": {
        "id": "3RnN4peoiCZX"
      }
    },
    {
      "cell_type": "code",
      "source": [
        "#Mount drive\n",
        "from google.colab import drive\n",
        "drive.mount('/content/drive')"
      ],
      "metadata": {
        "id": "4CkvbW_SlZ_R"
      },
      "execution_count": null,
      "outputs": []
    },
    {
      "cell_type": "code",
      "source": [
        "#Load the dataset\n",
        "df=pd.read_excel('/content/drive/MyDrive/Almabetter/Masters/Foundation/Module6/Capstone/Online Retail.xlsx')"
      ],
      "metadata": {
        "id": "061ZcGlzwd5y"
      },
      "execution_count": null,
      "outputs": []
    },
    {
      "cell_type": "markdown",
      "source": [
        "### Peek into data 👀"
      ],
      "metadata": {
        "id": "x71ZqKXriCWQ"
      }
    },
    {
      "cell_type": "code",
      "source": [
        "#First 5 rows\n",
        "df.head()"
      ],
      "metadata": {
        "id": "LWNFOSvLl09H"
      },
      "execution_count": null,
      "outputs": []
    },
    {
      "cell_type": "code",
      "source": [
        "#Last 5 rows\n",
        "df.tail()"
      ],
      "metadata": {
        "id": "FsD4L_hZxwPJ"
      },
      "execution_count": null,
      "outputs": []
    },
    {
      "cell_type": "code",
      "source": [
        "# Dataset Rows & Columns\n",
        "print(f'Shape of original dataframe:  {df.shape}')"
      ],
      "metadata": {
        "id": "Kllu7SJgmLij"
      },
      "execution_count": null,
      "outputs": []
    },
    {
      "cell_type": "markdown",
      "source": [
        "## **2. Understanding Data & Initial Preprocessing**"
      ],
      "metadata": {
        "id": "nA9Y7ga8ng1Z"
      }
    },
    {
      "cell_type": "markdown",
      "source": [
        "### **Understanding Data**"
      ],
      "metadata": {
        "id": "rKaaJyKJ5dUD"
      }
    },
    {
      "cell_type": "code",
      "source": [
        "#Variables in the dataset\n",
        "print(f'Variables in the dataset : {list(df.columns)}')"
      ],
      "metadata": {
        "id": "R676N4wX3anB"
      },
      "execution_count": null,
      "outputs": []
    },
    {
      "cell_type": "markdown",
      "source": [
        "**Variables Description**"
      ],
      "metadata": {
        "id": "PBTbrJXOngz2"
      }
    },
    {
      "cell_type": "markdown",
      "source": [
        "* **InvoiceNo   :**  Invoice number. A 6-digit integral number uniquely assigned to each transaction. If this code starts with letter 'c', it indicates a cancellation.\n",
        "* **StockCode   :**  Item code. A 5-digit integral number uniquely to each item.\n",
        "* **Description :**  Item name.\n",
        "* **Quantity    :**  The quantity of each product (item) per transaction.\n",
        "* **InvoiceDate :**  The day and time when each transaction was generated.\n",
        "* **UnitPrice   :**  Product price per unit.\n",
        "* **CustomerID  :**  Customer ID. A 5-digit integral number unique to each customer.\n",
        "* **Country     :**  Country name where each customer resides."
      ],
      "metadata": {
        "id": "aJV4KIxSnxay"
      }
    },
    {
      "cell_type": "code",
      "source": [
        "# Dataset Info\n",
        "df.info()"
      ],
      "metadata": {
        "id": "e9hRXRi6meOf"
      },
      "execution_count": null,
      "outputs": []
    },
    {
      "cell_type": "code",
      "source": [
        "# Dataset Describe\n",
        "df.describe(include='all')"
      ],
      "metadata": {
        "id": "DnOaZdaE5Q5t"
      },
      "execution_count": null,
      "outputs": []
    },
    {
      "cell_type": "markdown",
      "source": [
        "#### Duplicate Values"
      ],
      "metadata": {
        "id": "35m5QtbWiB9F"
      }
    },
    {
      "cell_type": "code",
      "source": [
        "# Dataset Duplicate Value Count\n",
        "print(f'Count of duplicate rows : {len(df[df.duplicated()])}')"
      ],
      "metadata": {
        "id": "1sLdpKYkmox0"
      },
      "execution_count": null,
      "outputs": []
    },
    {
      "cell_type": "markdown",
      "source": [
        "#### Missing Values/Null Values"
      ],
      "metadata": {
        "id": "PoPl-ycgm1ru"
      }
    },
    {
      "cell_type": "code",
      "source": [
        "# Missing Values/Null Values Count\n",
        "print(df.isnull().sum())"
      ],
      "metadata": {
        "id": "GgHWkxvamxVg"
      },
      "execution_count": null,
      "outputs": []
    },
    {
      "cell_type": "code",
      "source": [
        "# Visualizing the missing values\n",
        "# Checking Null Value by plotting Heatmap\n",
        "sns.heatmap(df.isnull(), cbar=False)"
      ],
      "metadata": {
        "id": "3q5wnI3om9sJ"
      },
      "execution_count": null,
      "outputs": []
    },
    {
      "cell_type": "markdown",
      "source": [
        "### **Initial Preprocessing**\n",
        "This step before EDA helps us to understand data easily further\n",
        "1. Remove duplicates\n",
        "2. Drop rows if null values in identifiers (CustomerID here)\n",
        "3. Data type conversion\n",
        "4. Drop rows which are cancelled transactions(As not required)\n"
      ],
      "metadata": {
        "id": "BMxWytdT5oEO"
      }
    },
    {
      "cell_type": "code",
      "source": [
        "# Modify dataframe by Droping duplicates based on all columns\n",
        "df = df.drop_duplicates()\n",
        "print('Shape of dataset after droping duplicates',df.shape)"
      ],
      "metadata": {
        "id": "mMrZplo47XFh"
      },
      "execution_count": null,
      "outputs": []
    },
    {
      "cell_type": "code",
      "source": [
        "# Drop rows with null values in customer ID\n",
        "df = df.dropna(subset=['CustomerID'])\n",
        "print('Shape of dataset after dropping rows with no customer ID',df.shape)"
      ],
      "metadata": {
        "id": "vUTocIvE7rc-"
      },
      "execution_count": null,
      "outputs": []
    },
    {
      "cell_type": "code",
      "source": [
        "# Data type conversion\n",
        "columns_to_convert = ['InvoiceNo', 'Description', 'StockCode', 'CustomerID', 'Country']\n",
        "df[columns_to_convert] = df[columns_to_convert].astype(str)"
      ],
      "metadata": {
        "id": "W4vi4xD-7QCv"
      },
      "execution_count": null,
      "outputs": []
    },
    {
      "cell_type": "code",
      "source": [
        "# Drop cancelled transactions\n",
        "print(\"Total count of cancelled items are\", df[df['InvoiceNo'].str.contains('C')].shape[0])\n",
        "df=df[~df['InvoiceNo'].str.contains('C')]\n",
        "print('Shape of dataset after droping cancelled transactions',df.shape)"
      ],
      "metadata": {
        "id": "LVFVYrXBMMUd"
      },
      "execution_count": null,
      "outputs": []
    },
    {
      "cell_type": "code",
      "source": [
        "print(\"Total Customers:\", df['CustomerID'].nunique())\n",
        "print(\"Total unique Transactions:\", df['InvoiceNo'].nunique())\n",
        "print(\"Total distinct Items sold:\", df['StockCode'].nunique())\n",
        "print(\"Total Countries:\", df['Country'].nunique())"
      ],
      "metadata": {
        "id": "-RJ60BnK-PTy"
      },
      "execution_count": null,
      "outputs": []
    },
    {
      "cell_type": "markdown",
      "source": [
        "## **3. Exploratory Data Analysis**"
      ],
      "metadata": {
        "id": "GF8Ens_Soomf"
      }
    },
    {
      "cell_type": "markdown",
      "source": [
        "#### Chart-1 & Chart-2 Monthly Distribution of Transactions & Monthly Distribution of Revenue"
      ],
      "metadata": {
        "id": "j6mR8astPv44"
      }
    },
    {
      "cell_type": "code",
      "source": [
        "# Monthly Distribution of Transactions Over Time\n",
        "plt.figure(figsize=(15, 6))\n",
        "\n",
        "plt.subplot(1, 2, 1)\n",
        "df['InvoiceDate'] = pd.to_datetime(df['InvoiceDate'])\n",
        "df.set_index('InvoiceDate')['InvoiceNo'].resample('M').nunique().plot(marker='o', color='blue')\n",
        "plt.title('Monthly Distribution of Transactions')\n",
        "plt.xlabel('Month')\n",
        "plt.ylabel('Number of Transactions')\n",
        "\n",
        "# Monthly Revenue Over Time\n",
        "plt.subplot(1, 2, 2)\n",
        "df['Revenue'] = df['Quantity'] * df['UnitPrice']\n",
        "df = df[df['Revenue'] > 0]\n",
        "df.set_index('InvoiceDate')['Revenue'].resample('M').sum().div(1000000).plot(marker='o', color='orange')  # Convert to Millions\n",
        "plt.title('Monthly Revenue')\n",
        "plt.xlabel('Month')\n",
        "plt.ylabel('Revenue (in Millions)')\n",
        "\n",
        "# Add 'M' extension to y-axis ticks\n",
        "plt.gca().yaxis.set_major_formatter(ticker.StrMethodFormatter('{x:,.1f}M'))\n",
        "\n",
        "plt.tight_layout()\n",
        "plt.show()"
      ],
      "metadata": {
        "id": "T2NacykbOOM-"
      },
      "execution_count": null,
      "outputs": []
    },
    {
      "cell_type": "markdown",
      "source": [
        "Chart -1 Distribution of Transactions Over Time"
      ],
      "metadata": {
        "id": "79Bnpc05A9jD"
      }
    },
    {
      "cell_type": "markdown",
      "source": [
        "1. Why this chart? This line chart helps visualize the monthly distribution of transactions occuring over time.\n",
        "\n",
        "2. Insights: Identify patterns or trends in transaction volume over time, detect seasonality, and assess the impact of time on business operations.\n",
        "\n",
        "3. Business Impact: Understanding the temporal distribution of transactions can help optimize staffing, inventory management, and marketing strategies based on peak and off-peak periods.\n",
        "\n"
      ],
      "metadata": {
        "id": "GKThYilQCipg"
      }
    },
    {
      "cell_type": "markdown",
      "source": [
        "Chart 2- Distribution of Monthly Revenue Over Time"
      ],
      "metadata": {
        "id": "GpZ8xy5ASZoM"
      }
    },
    {
      "cell_type": "markdown",
      "source": [
        "1. Why this chart? A bar chart illustrates the monthly revenue over time.\n",
        "\n",
        "2. Insights: Identify revenue trends, seasonality, and potential growth or decline periods.\n",
        "\n",
        "3. Business Impact: Helps in financial planning, budgeting, and adjusting strategies based on revenue performance."
      ],
      "metadata": {
        "id": "LJeKUulUTziE"
      }
    },
    {
      "cell_type": "markdown",
      "source": [
        "#### Chart -3 Distribution of Customers Across Countries"
      ],
      "metadata": {
        "id": "FKgi_OAnCsy9"
      }
    },
    {
      "cell_type": "code",
      "source": [
        "#Customer Distribution Across Countries\n",
        "top_countries = df['Country'].value_counts().head(5).index\n",
        "\n",
        "# Create a new column 'Country_Grouped' to represent the top 5 countries and 'Others'\n",
        "df['Country_Grouped'] = df['Country'].apply(lambda x: x if x in top_countries else 'Others')\n",
        "\n",
        "# Plot the count of customers in each country group\n",
        "plt.figure(figsize=(8, 5))\n",
        "sns.countplot(x='Country_Grouped', data=df, palette='viridis')\n",
        "plt.title('Customer Distribution across countries')\n",
        "plt.xlabel('Country')\n",
        "plt.ylabel('Number of Customers')\n",
        "plt.xticks(rotation=0)\n",
        "plt.show()\n",
        "\n",
        "# Drop the temporary 'Country_Grouped' column - not needed for further analysis\n",
        "#df.drop('Country_Grouped', axis=1, inplace=True)"
      ],
      "metadata": {
        "id": "VpQtOiF2EoUN"
      },
      "execution_count": null,
      "outputs": []
    },
    {
      "cell_type": "markdown",
      "source": [
        "1. Why this chart? A countplot provides a visual representation of the distribution of customers across different countries.\n",
        "\n",
        "2. Insights: Identify the countries with the highest customer concentration.\n",
        "\n",
        "3. Business Impact: Tailor marketing strategies, promotions, or product offerings based on the countries with the highest customer base to maximize impact and revenue."
      ],
      "metadata": {
        "id": "KYyzd5avFco9"
      }
    },
    {
      "cell_type": "markdown",
      "source": [
        "#### Chart - 4 Distribution of quantity of item sold in a transaction"
      ],
      "metadata": {
        "id": "cOX5_u4bF83_"
      }
    },
    {
      "cell_type": "code",
      "source": [
        "#Quantity of Items Sold Distribution\n",
        "\n",
        "plt.figure(figsize=(8, 5))\n",
        "sns.histplot(np.log(df['Quantity']), bins=50, kde=True)\n",
        "plt.title('Distribution of Quantity of Items Sold')\n",
        "plt.xlabel('Quantity')\n",
        "plt.ylabel('Frequency')\n",
        "plt.show()"
      ],
      "metadata": {
        "id": "M-ingsuUF8id"
      },
      "execution_count": null,
      "outputs": []
    },
    {
      "cell_type": "markdown",
      "source": [
        "1. Why this chart? A histogram shows the distribution of quantities of items sold.\n",
        "\n",
        "2. Insights: Understand the distribution of the quantity of items sold, identify outliers.\n",
        "\n",
        "3. Business Impact: Helps in inventory management by identifying frequently sold quantities and outliers that may need special attention."
      ],
      "metadata": {
        "id": "QxHiv-vJSJXI"
      }
    },
    {
      "cell_type": "markdown",
      "source": [
        "#### Chart 5 - Top Selling Products - Popular"
      ],
      "metadata": {
        "id": "diOsR08WT_IJ"
      }
    },
    {
      "cell_type": "code",
      "source": [
        "plt.figure(figsize=(8, 5))\n",
        "df_top = df.groupby('StockCode')['Quantity'].sum().reset_index().sort_values(by = 'Quantity', ascending = False )\n",
        "top_products = df_top.head(10)\n",
        "top_products.plot(kind='bar', color='coral')\n",
        "plt.title('Top 10 Selling Products')\n",
        "plt.xlabel('Stock Code')\n",
        "plt.ylabel('Quantity Sold')\n",
        "plt.show()"
      ],
      "metadata": {
        "id": "C3bR0oBrUjY8"
      },
      "execution_count": null,
      "outputs": []
    },
    {
      "cell_type": "markdown",
      "source": [
        "1. Why this chart? A horizontal bar chart displays the top-selling products.\n",
        "\n",
        "2. Insights: Identify the best-performing products in terms of sales volume.\n",
        "\n",
        "3. Business Impact: Helps in inventory management, highlighting popular products that might need special attention or promotions."
      ],
      "metadata": {
        "id": "Sn3VsEkgWZBT"
      }
    },
    {
      "cell_type": "markdown",
      "source": [
        "#### Chart 6 - Top Revenue generating products"
      ],
      "metadata": {
        "id": "VyLaw30EYFZn"
      }
    },
    {
      "cell_type": "code",
      "source": [
        "plt.figure(figsize=(8,5))\n",
        "df_rev = df.groupby('StockCode')['Revenue'].sum().reset_index().sort_values(by = 'Revenue', ascending = False )\n",
        "top_products = df_rev.head(10)\n",
        "top_products.plot(kind='bar', color='coral')\n",
        "plt.title('Top 10 Revenue generating products')\n",
        "plt.xlabel('Stock Code')\n",
        "plt.ylabel('Revenue')\n",
        "plt.show()"
      ],
      "metadata": {
        "id": "-0Whcg5nYV6V"
      },
      "execution_count": null,
      "outputs": []
    },
    {
      "cell_type": "markdown",
      "source": [
        "1. Why this chart? A horizontal bar chart displays the top-selling products.\n",
        "\n",
        "2. Insights: Identify the best-performing products in terms of revenue generation\n",
        "\n",
        "3. Business Impact: Helps in top revenue generation products"
      ],
      "metadata": {
        "id": "oO9vyg19YpVl"
      }
    },
    {
      "cell_type": "markdown",
      "source": [
        "#### Chart 7 - Customer Purchase Frequency"
      ],
      "metadata": {
        "id": "rGQJ-GlEWjDC"
      }
    },
    {
      "cell_type": "code",
      "source": [
        "plt.figure(figsize=(8, 5))\n",
        "purchase_frequency = df.groupby('CustomerID')['InvoiceNo'].nunique()\n",
        "sns.histplot(purchase_frequency, bins=50, kde=True)\n",
        "plt.title('Customer Purchase Frequency')\n",
        "plt.xlabel('Number of Purchases')\n",
        "plt.ylabel('Number of Customers')\n",
        "plt.show()"
      ],
      "metadata": {
        "id": "GzcQeGwFWxzl"
      },
      "execution_count": null,
      "outputs": []
    },
    {
      "cell_type": "markdown",
      "source": [
        "1. Why this chart? A histogram depicts the distribution of customer purchase frequencies.\n",
        "\n",
        "2. Insights: Understand how often customers make purchases.\n",
        "\n",
        "3. Business Impact: Target marketing efforts based on customer segments, such as frequent buyers or occasional shoppers."
      ],
      "metadata": {
        "id": "VoRCfoV6XCWF"
      }
    },
    {
      "cell_type": "markdown",
      "source": [
        "#### Chart 8 - Distribution of transaction by Weekday"
      ],
      "metadata": {
        "id": "q_xjPJ49Z1Jf"
      }
    },
    {
      "cell_type": "code",
      "source": [
        "df['InvoiceDate'] = pd.to_datetime(df['InvoiceDate'])\n",
        "\n",
        "# Extract weekday from 'InvoiceDate' and format as day names\n",
        "df['Weekday'] = df['InvoiceDate'].dt.strftime('%A')\n",
        "\n",
        "# Create a bar chart for weekday vs. transaction count\n",
        "plt.figure(figsize=(8, 5))\n",
        "df.groupby('Weekday')['InvoiceNo'].nunique().sort_values(ascending=True).plot(kind='bar', color='orange')\n",
        "plt.title('Transaction Count by Weekday')\n",
        "plt.xlabel('Weekday')\n",
        "plt.ylabel('Number of Transactions')\n",
        "plt.xticks(rotation=0)  # Rotate x-axis labels for better readability\n",
        "plt.show()"
      ],
      "metadata": {
        "id": "2JC3xxuBaI-Y"
      },
      "execution_count": null,
      "outputs": []
    },
    {
      "cell_type": "markdown",
      "source": [
        "1. Why this chart?\n",
        "To visualize the distribution of transaction counts across weekdays, providing insights into sales patterns and identifying peak days.\n",
        "\n",
        "2. Insights:\n",
        "The chart highlights varying transaction counts by weekday, offering insights into peak sales days and opportunities for targeted marketing. Saturday is a holiday ? No transactions on that day\n",
        "\n",
        "3. Business Impact:\n",
        "Enables strategic resource allocation, staffing, and marketing efforts, optimizing business operations based on observed transaction patterns."
      ],
      "metadata": {
        "id": "DUz9A_i9bxCF"
      }
    },
    {
      "cell_type": "markdown",
      "source": [
        "#### Chart 9 - Top 15 Customers by Trasactions"
      ],
      "metadata": {
        "id": "C4uJO8p_U92p"
      }
    },
    {
      "cell_type": "code",
      "source": [
        "plt.figure(figsize=(10, 6))\n",
        "df['CustomerID'].value_counts().head(15).plot(kind='bar')\n",
        "plt.title('Top 15 Customers by Transactions')\n",
        "plt.xlabel('Customer ID')\n",
        "plt.ylabel('Number of Transactions')\n",
        "plt.show()"
      ],
      "metadata": {
        "id": "N5_8lNnJVGgZ"
      },
      "execution_count": null,
      "outputs": []
    },
    {
      "cell_type": "markdown",
      "source": [
        "1. Why this chart? A bar chart displays the top 15 customers based on transaction count.\n",
        "\n",
        "2. Insights: Identifies the most valuable customers in terms of transaction count.\n",
        "\n",
        "3. Business Impact: Guides customer relationship management strategies and loyalty programs."
      ],
      "metadata": {
        "id": "3nUa_X9NVtSQ"
      }
    },
    {
      "cell_type": "markdown",
      "source": [
        "#### Chart 10 - Country vs. Invoice Date vs. Revenue Heatmap"
      ],
      "metadata": {
        "id": "aoREz6ymV5Jr"
      }
    },
    {
      "cell_type": "code",
      "source": [
        "heatmap_data = df.groupby(['Country_Grouped', df['InvoiceDate'].dt.to_period('M')])['UnitPrice'].sum().unstack().fillna(0)\n",
        "\n",
        "plt.figure(figsize=(8, 5))\n",
        "sns.heatmap(heatmap_data, cmap='viridis')\n",
        "plt.title('Country vs. Invoice Date vs. Revenue')\n",
        "plt.xlabel('Date')\n",
        "plt.ylabel('Country')\n",
        "plt.show()"
      ],
      "metadata": {
        "id": "DrPnqtGIYqjh"
      },
      "execution_count": null,
      "outputs": []
    },
    {
      "cell_type": "markdown",
      "source": [
        "1. Why this chart? A heatmap explores how revenue varies across different countries and dates.\n",
        "\n",
        "2. Insights: Identifies patterns in revenue generation over time and in different regions.\n",
        "\n",
        "3. Business Impact: Guides international marketing strategies and helps plan for revenue fluctuations."
      ],
      "metadata": {
        "id": "fYA6-3kNXIRY"
      }
    },
    {
      "cell_type": "markdown",
      "source": [
        "### Overall Insights"
      ],
      "metadata": {
        "id": "6NLej2X2ctdG"
      }
    },
    {
      "cell_type": "markdown",
      "source": [
        "1. Sep, Oct, Nov are where customers are very active. In Sep, Oct customers tendency to buy high priced items compared to in Nov\n",
        "2. Top 5 countries from where customers are expected from UK, France, Germany, Spain, EIRE.\n",
        "3. Customer Segmentation based on quantity of items bought is performable as the distribution is too wide.\n",
        "4. Customer Frequency can be another segmentation\n",
        "5. No transactions recorded on Saturday. Thursday seems popular to purchases.\n",
        "6. Top 15 Customers, Top 10 products by transaction count, Top 10 products by revenue are seen.\n",
        "7. UK purchased mostly in November, France purchased mostly in October, EIRE purchased mostly in March"
      ],
      "metadata": {
        "id": "8mSW6zdPc78F"
      }
    }
  ]
}